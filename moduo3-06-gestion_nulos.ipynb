{
 "cells": [
  {
   "cell_type": "code",
   "execution_count": 1,
   "metadata": {},
   "outputs": [],
   "source": [
    "import pandas as pd\n",
    "import numpy as np\n",
    "from sklearn.impute import SimpleImputer\n",
    "from sklearn.experimental import enable_iterative_imputer\n",
    "from sklearn.impute import IterativeImputer\n",
    "from sklearn.impute import KNNImputer\n",
    "import seaborn as sns\n",
    "import matplotlib.pyplot as plt\n",
    "pd.set_option('display.max_columns', None)"
   ]
  },
  {
   "cell_type": "markdown",
   "metadata": {},
   "source": [
    "\n",
    "1.Identificación de Valores Nulos: Identifica todas las columnas que contengan valores nulos en el DataFrame."
   ]
  },
  {
   "cell_type": "code",
   "execution_count": 2,
   "metadata": {},
   "outputs": [],
   "source": [
    "data_world= pd.read_csv(\"world-data-2023-w-continents.csv\",index_col=0)"
   ]
  },
  {
   "cell_type": "code",
   "execution_count": 3,
   "metadata": {},
   "outputs": [
    {
     "data": {
      "text/html": [
       "<div>\n",
       "<style scoped>\n",
       "    .dataframe tbody tr th:only-of-type {\n",
       "        vertical-align: middle;\n",
       "    }\n",
       "\n",
       "    .dataframe tbody tr th {\n",
       "        vertical-align: top;\n",
       "    }\n",
       "\n",
       "    .dataframe thead th {\n",
       "        text-align: right;\n",
       "    }\n",
       "</style>\n",
       "<table border=\"1\" class=\"dataframe\">\n",
       "  <thead>\n",
       "    <tr style=\"text-align: right;\">\n",
       "      <th></th>\n",
       "      <th>country</th>\n",
       "      <th>density</th>\n",
       "      <th>abbreviation</th>\n",
       "      <th>agricultural_land</th>\n",
       "      <th>land_area</th>\n",
       "      <th>armed_forces_size</th>\n",
       "      <th>birth_rate</th>\n",
       "      <th>calling_code</th>\n",
       "      <th>capital/major_city</th>\n",
       "      <th>co2-emissions</th>\n",
       "      <th>cpi</th>\n",
       "      <th>cpi_change</th>\n",
       "      <th>currency-code</th>\n",
       "      <th>fertility_rate</th>\n",
       "      <th>forested_area</th>\n",
       "      <th>gasoline_price</th>\n",
       "      <th>gdp</th>\n",
       "      <th>gross_primary_education_enrollment</th>\n",
       "      <th>gross_tertiary_education_enrollment</th>\n",
       "      <th>infant_mortality</th>\n",
       "      <th>largest_city</th>\n",
       "      <th>life_expectancy</th>\n",
       "      <th>maternal_mortality_ratio</th>\n",
       "      <th>minimum_wage</th>\n",
       "      <th>official_language</th>\n",
       "      <th>out_of_pocket_health_expenditure</th>\n",
       "      <th>physicians_per_thousand</th>\n",
       "      <th>population</th>\n",
       "      <th>population_labor_force_participation</th>\n",
       "      <th>tax_revenue</th>\n",
       "      <th>total_tax_rate</th>\n",
       "      <th>unemployment_rate</th>\n",
       "      <th>urban_population</th>\n",
       "      <th>Latitud</th>\n",
       "      <th>Longitud</th>\n",
       "      <th>continent</th>\n",
       "    </tr>\n",
       "  </thead>\n",
       "  <tbody>\n",
       "    <tr>\n",
       "      <th>0</th>\n",
       "      <td>Afghanistan</td>\n",
       "      <td>60.0</td>\n",
       "      <td>AF</td>\n",
       "      <td>58.1</td>\n",
       "      <td>652230.0</td>\n",
       "      <td>323000.0</td>\n",
       "      <td>32.49</td>\n",
       "      <td>93.0</td>\n",
       "      <td>Kabul</td>\n",
       "      <td>8672.0</td>\n",
       "      <td>149.90</td>\n",
       "      <td>2.3</td>\n",
       "      <td>AFN</td>\n",
       "      <td>4.47</td>\n",
       "      <td>2.1</td>\n",
       "      <td>0.70</td>\n",
       "      <td>1.910135e+10</td>\n",
       "      <td>104.0</td>\n",
       "      <td>9.7</td>\n",
       "      <td>47.9</td>\n",
       "      <td>Kabul</td>\n",
       "      <td>64.5</td>\n",
       "      <td>638.0</td>\n",
       "      <td>0.43</td>\n",
       "      <td>Pashto</td>\n",
       "      <td>78.4</td>\n",
       "      <td>0.28</td>\n",
       "      <td>38041754.0</td>\n",
       "      <td>48.9</td>\n",
       "      <td>9.3</td>\n",
       "      <td>71.4</td>\n",
       "      <td>11.12</td>\n",
       "      <td>9797273.0</td>\n",
       "      <td>33.939110</td>\n",
       "      <td>67.709953</td>\n",
       "      <td>Asia</td>\n",
       "    </tr>\n",
       "    <tr>\n",
       "      <th>1</th>\n",
       "      <td>Albania</td>\n",
       "      <td>105.0</td>\n",
       "      <td>AL</td>\n",
       "      <td>43.1</td>\n",
       "      <td>28748.0</td>\n",
       "      <td>9000.0</td>\n",
       "      <td>11.78</td>\n",
       "      <td>355.0</td>\n",
       "      <td>Tirana</td>\n",
       "      <td>4536.0</td>\n",
       "      <td>119.05</td>\n",
       "      <td>1.4</td>\n",
       "      <td>ALL</td>\n",
       "      <td>1.62</td>\n",
       "      <td>28.1</td>\n",
       "      <td>1.36</td>\n",
       "      <td>1.527808e+10</td>\n",
       "      <td>107.0</td>\n",
       "      <td>55.0</td>\n",
       "      <td>7.8</td>\n",
       "      <td>Tirana</td>\n",
       "      <td>78.5</td>\n",
       "      <td>15.0</td>\n",
       "      <td>1.12</td>\n",
       "      <td>Albanian</td>\n",
       "      <td>56.9</td>\n",
       "      <td>1.20</td>\n",
       "      <td>2854191.0</td>\n",
       "      <td>55.7</td>\n",
       "      <td>18.6</td>\n",
       "      <td>36.6</td>\n",
       "      <td>12.33</td>\n",
       "      <td>1747593.0</td>\n",
       "      <td>41.153332</td>\n",
       "      <td>20.168331</td>\n",
       "      <td>Europe</td>\n",
       "    </tr>\n",
       "    <tr>\n",
       "      <th>2</th>\n",
       "      <td>Algeria</td>\n",
       "      <td>18.0</td>\n",
       "      <td>DZ</td>\n",
       "      <td>17.4</td>\n",
       "      <td>2381741.0</td>\n",
       "      <td>317000.0</td>\n",
       "      <td>24.28</td>\n",
       "      <td>213.0</td>\n",
       "      <td>Algiers</td>\n",
       "      <td>150006.0</td>\n",
       "      <td>151.36</td>\n",
       "      <td>2.0</td>\n",
       "      <td>DZD</td>\n",
       "      <td>3.02</td>\n",
       "      <td>0.8</td>\n",
       "      <td>0.28</td>\n",
       "      <td>1.699882e+11</td>\n",
       "      <td>109.9</td>\n",
       "      <td>51.4</td>\n",
       "      <td>20.1</td>\n",
       "      <td>Algiers</td>\n",
       "      <td>76.7</td>\n",
       "      <td>112.0</td>\n",
       "      <td>0.95</td>\n",
       "      <td>Arabic</td>\n",
       "      <td>28.1</td>\n",
       "      <td>1.72</td>\n",
       "      <td>43053054.0</td>\n",
       "      <td>41.2</td>\n",
       "      <td>37.2</td>\n",
       "      <td>66.1</td>\n",
       "      <td>11.70</td>\n",
       "      <td>31510100.0</td>\n",
       "      <td>28.033886</td>\n",
       "      <td>1.659626</td>\n",
       "      <td>Africa</td>\n",
       "    </tr>\n",
       "    <tr>\n",
       "      <th>3</th>\n",
       "      <td>Andorra</td>\n",
       "      <td>164.0</td>\n",
       "      <td>AD</td>\n",
       "      <td>40.0</td>\n",
       "      <td>468.0</td>\n",
       "      <td>NaN</td>\n",
       "      <td>7.20</td>\n",
       "      <td>376.0</td>\n",
       "      <td>Andorra la Vella</td>\n",
       "      <td>469.0</td>\n",
       "      <td>NaN</td>\n",
       "      <td>NaN</td>\n",
       "      <td>EUR</td>\n",
       "      <td>1.27</td>\n",
       "      <td>34.0</td>\n",
       "      <td>1.51</td>\n",
       "      <td>3.154058e+09</td>\n",
       "      <td>106.4</td>\n",
       "      <td>NaN</td>\n",
       "      <td>2.7</td>\n",
       "      <td>Andorra la Vella</td>\n",
       "      <td>NaN</td>\n",
       "      <td>NaN</td>\n",
       "      <td>6.63</td>\n",
       "      <td>Catalan</td>\n",
       "      <td>36.4</td>\n",
       "      <td>3.33</td>\n",
       "      <td>77142.0</td>\n",
       "      <td>NaN</td>\n",
       "      <td>NaN</td>\n",
       "      <td>NaN</td>\n",
       "      <td>NaN</td>\n",
       "      <td>67873.0</td>\n",
       "      <td>42.506285</td>\n",
       "      <td>1.521801</td>\n",
       "      <td>Europe</td>\n",
       "    </tr>\n",
       "    <tr>\n",
       "      <th>4</th>\n",
       "      <td>Angola</td>\n",
       "      <td>26.0</td>\n",
       "      <td>AO</td>\n",
       "      <td>47.5</td>\n",
       "      <td>1246700.0</td>\n",
       "      <td>117000.0</td>\n",
       "      <td>40.73</td>\n",
       "      <td>244.0</td>\n",
       "      <td>Luanda</td>\n",
       "      <td>34693.0</td>\n",
       "      <td>261.73</td>\n",
       "      <td>17.1</td>\n",
       "      <td>AOA</td>\n",
       "      <td>5.52</td>\n",
       "      <td>46.3</td>\n",
       "      <td>0.97</td>\n",
       "      <td>9.463542e+10</td>\n",
       "      <td>113.5</td>\n",
       "      <td>9.3</td>\n",
       "      <td>51.6</td>\n",
       "      <td>Luanda</td>\n",
       "      <td>60.8</td>\n",
       "      <td>241.0</td>\n",
       "      <td>0.71</td>\n",
       "      <td>Portuguese</td>\n",
       "      <td>33.4</td>\n",
       "      <td>0.21</td>\n",
       "      <td>31825295.0</td>\n",
       "      <td>77.5</td>\n",
       "      <td>9.2</td>\n",
       "      <td>49.1</td>\n",
       "      <td>6.89</td>\n",
       "      <td>21061025.0</td>\n",
       "      <td>-11.202692</td>\n",
       "      <td>17.873887</td>\n",
       "      <td>Africa</td>\n",
       "    </tr>\n",
       "  </tbody>\n",
       "</table>\n",
       "</div>"
      ],
      "text/plain": [
       "       country  density abbreviation  agricultural_land  land_area  \\\n",
       "0  Afghanistan     60.0           AF               58.1   652230.0   \n",
       "1      Albania    105.0           AL               43.1    28748.0   \n",
       "2      Algeria     18.0           DZ               17.4  2381741.0   \n",
       "3      Andorra    164.0           AD               40.0      468.0   \n",
       "4       Angola     26.0           AO               47.5  1246700.0   \n",
       "\n",
       "   armed_forces_size  birth_rate  calling_code capital/major_city  \\\n",
       "0           323000.0       32.49          93.0              Kabul   \n",
       "1             9000.0       11.78         355.0             Tirana   \n",
       "2           317000.0       24.28         213.0            Algiers   \n",
       "3                NaN        7.20         376.0   Andorra la Vella   \n",
       "4           117000.0       40.73         244.0             Luanda   \n",
       "\n",
       "   co2-emissions     cpi  cpi_change currency-code  fertility_rate  \\\n",
       "0         8672.0  149.90         2.3           AFN            4.47   \n",
       "1         4536.0  119.05         1.4           ALL            1.62   \n",
       "2       150006.0  151.36         2.0           DZD            3.02   \n",
       "3          469.0     NaN         NaN           EUR            1.27   \n",
       "4        34693.0  261.73        17.1           AOA            5.52   \n",
       "\n",
       "   forested_area  gasoline_price           gdp  \\\n",
       "0            2.1            0.70  1.910135e+10   \n",
       "1           28.1            1.36  1.527808e+10   \n",
       "2            0.8            0.28  1.699882e+11   \n",
       "3           34.0            1.51  3.154058e+09   \n",
       "4           46.3            0.97  9.463542e+10   \n",
       "\n",
       "   gross_primary_education_enrollment  gross_tertiary_education_enrollment  \\\n",
       "0                               104.0                                  9.7   \n",
       "1                               107.0                                 55.0   \n",
       "2                               109.9                                 51.4   \n",
       "3                               106.4                                  NaN   \n",
       "4                               113.5                                  9.3   \n",
       "\n",
       "   infant_mortality      largest_city  life_expectancy  \\\n",
       "0              47.9             Kabul             64.5   \n",
       "1               7.8            Tirana             78.5   \n",
       "2              20.1           Algiers             76.7   \n",
       "3               2.7  Andorra la Vella              NaN   \n",
       "4              51.6            Luanda             60.8   \n",
       "\n",
       "   maternal_mortality_ratio  minimum_wage official_language  \\\n",
       "0                     638.0          0.43            Pashto   \n",
       "1                      15.0          1.12          Albanian   \n",
       "2                     112.0          0.95            Arabic   \n",
       "3                       NaN          6.63           Catalan   \n",
       "4                     241.0          0.71        Portuguese   \n",
       "\n",
       "   out_of_pocket_health_expenditure  physicians_per_thousand  population  \\\n",
       "0                              78.4                     0.28  38041754.0   \n",
       "1                              56.9                     1.20   2854191.0   \n",
       "2                              28.1                     1.72  43053054.0   \n",
       "3                              36.4                     3.33     77142.0   \n",
       "4                              33.4                     0.21  31825295.0   \n",
       "\n",
       "   population_labor_force_participation  tax_revenue  total_tax_rate  \\\n",
       "0                                  48.9          9.3            71.4   \n",
       "1                                  55.7         18.6            36.6   \n",
       "2                                  41.2         37.2            66.1   \n",
       "3                                   NaN          NaN             NaN   \n",
       "4                                  77.5          9.2            49.1   \n",
       "\n",
       "   unemployment_rate  urban_population    Latitud   Longitud continent  \n",
       "0              11.12         9797273.0  33.939110  67.709953      Asia  \n",
       "1              12.33         1747593.0  41.153332  20.168331    Europe  \n",
       "2              11.70        31510100.0  28.033886   1.659626    Africa  \n",
       "3                NaN           67873.0  42.506285   1.521801    Europe  \n",
       "4               6.89        21061025.0 -11.202692  17.873887    Africa  "
      ]
     },
     "execution_count": 3,
     "metadata": {},
     "output_type": "execute_result"
    }
   ],
   "source": [
    "data_world.head(5)"
   ]
  },
  {
   "cell_type": "markdown",
   "metadata": {},
   "source": [
    "Columnas que contienen nulos"
   ]
  },
  {
   "cell_type": "code",
   "execution_count": 4,
   "metadata": {},
   "outputs": [
    {
     "name": "stdout",
     "output_type": "stream",
     "text": [
      "Las columnas que contienen nulos son:\n",
      "\n",
      "abbreviation --- 7 nulos\n",
      "agricultural_land --- 7 nulos\n",
      "land_area --- 1 nulos\n",
      "armed_forces_size --- 24 nulos\n",
      "birth_rate --- 6 nulos\n",
      "calling_code --- 1 nulos\n",
      "capital/major_city --- 3 nulos\n",
      "co2-emissions --- 7 nulos\n",
      "cpi --- 17 nulos\n",
      "cpi_change --- 16 nulos\n",
      "currency-code --- 15 nulos\n",
      "fertility_rate --- 7 nulos\n",
      "forested_area --- 7 nulos\n",
      "gasoline_price --- 20 nulos\n",
      "gdp --- 2 nulos\n",
      "gross_primary_education_enrollment --- 7 nulos\n",
      "gross_tertiary_education_enrollment --- 12 nulos\n",
      "infant_mortality --- 6 nulos\n",
      "largest_city --- 6 nulos\n",
      "life_expectancy --- 8 nulos\n",
      "maternal_mortality_ratio --- 14 nulos\n",
      "minimum_wage --- 45 nulos\n",
      "official_language --- 5 nulos\n",
      "out_of_pocket_health_expenditure --- 7 nulos\n",
      "physicians_per_thousand --- 7 nulos\n",
      "population --- 1 nulos\n",
      "population_labor_force_participation --- 19 nulos\n",
      "tax_revenue --- 26 nulos\n",
      "total_tax_rate --- 12 nulos\n",
      "unemployment_rate --- 19 nulos\n",
      "urban_population --- 5 nulos\n",
      "Latitud --- 1 nulos\n",
      "Longitud --- 1 nulos\n",
      "continent --- 5 nulos\n"
     ]
    }
   ],
   "source": [
    "print(\"Las columnas que contienen nulos son:\\n\")\n",
    "columnas_null = []\n",
    "for column in data_world.columns:\n",
    "    \n",
    "    if data_world[column].isna().sum() > 0:\n",
    "        print(f\"{column} --- {data_world[column].isna().sum()} nulos\")\n",
    "        columnas_null.append(column)"
   ]
  },
  {
   "cell_type": "code",
   "execution_count": 5,
   "metadata": {},
   "outputs": [],
   "source": [
    "cat_columns = [column for column in columnas_null if data_world[column].dtype == \"O\"]\n",
    "num_columns = [column for column in columnas_null if data_world[column].dtype == \"float64\"]"
   ]
  },
  {
   "cell_type": "markdown",
   "metadata": {},
   "source": [
    "#Evaluación de datos columnas categóricas"
   ]
  },
  {
   "cell_type": "code",
   "execution_count": 6,
   "metadata": {},
   "outputs": [
    {
     "data": {
      "text/plain": [
       "['abbreviation',\n",
       " 'capital/major_city',\n",
       " 'currency-code',\n",
       " 'largest_city',\n",
       " 'official_language',\n",
       " 'continent']"
      ]
     },
     "execution_count": 6,
     "metadata": {},
     "output_type": "execute_result"
    }
   ],
   "source": [
    "cat_columns"
   ]
  },
  {
   "cell_type": "markdown",
   "metadata": {},
   "source": [
    "Cambio del país ao Tome and Principe"
   ]
  },
  {
   "cell_type": "code",
   "execution_count": 7,
   "metadata": {},
   "outputs": [
    {
     "name": "stderr",
     "output_type": "stream",
     "text": [
      "/tmp/ipykernel_11144/1362952707.py:1: SettingWithCopyWarning: \n",
      "A value is trying to be set on a copy of a slice from a DataFrame\n",
      "\n",
      "See the caveats in the documentation: https://pandas.pydata.org/pandas-docs/stable/user_guide/indexing.html#returning-a-view-versus-a-copy\n",
      "  data_world[\"country\"][150]= 'Sao Tome and Principe'\n",
      "/tmp/ipykernel_11144/1362952707.py:2: SettingWithCopyWarning: \n",
      "A value is trying to be set on a copy of a slice from a DataFrame\n",
      "\n",
      "See the caveats in the documentation: https://pandas.pydata.org/pandas-docs/stable/user_guide/indexing.html#returning-a-view-versus-a-copy\n",
      "  data_world[\"capital/major_city\"][150]= 'Sao Tome'\n",
      "/tmp/ipykernel_11144/1362952707.py:3: SettingWithCopyWarning: \n",
      "A value is trying to be set on a copy of a slice from a DataFrame\n",
      "\n",
      "See the caveats in the documentation: https://pandas.pydata.org/pandas-docs/stable/user_guide/indexing.html#returning-a-view-versus-a-copy\n",
      "  data_world[\"largest_city\"][150]= 'Sao Tome'\n"
     ]
    }
   ],
   "source": [
    "data_world[\"country\"][150]= 'Sao Tome and Principe'\n",
    "data_world[\"capital/major_city\"][150]= 'Sao Tome'\n",
    "data_world[\"largest_city\"][150]= 'Sao Tome'\n"
   ]
  },
  {
   "cell_type": "markdown",
   "metadata": {},
   "source": [
    "Columna Abbreviation"
   ]
  },
  {
   "cell_type": "code",
   "execution_count": 8,
   "metadata": {},
   "outputs": [
    {
     "data": {
      "text/html": [
       "<div>\n",
       "<style scoped>\n",
       "    .dataframe tbody tr th:only-of-type {\n",
       "        vertical-align: middle;\n",
       "    }\n",
       "\n",
       "    .dataframe tbody tr th {\n",
       "        vertical-align: top;\n",
       "    }\n",
       "\n",
       "    .dataframe thead th {\n",
       "        text-align: right;\n",
       "    }\n",
       "</style>\n",
       "<table border=\"1\" class=\"dataframe\">\n",
       "  <thead>\n",
       "    <tr style=\"text-align: right;\">\n",
       "      <th></th>\n",
       "      <th>country</th>\n",
       "      <th>abbreviation</th>\n",
       "    </tr>\n",
       "  </thead>\n",
       "  <tbody>\n",
       "    <tr>\n",
       "      <th>39</th>\n",
       "      <td>Republic of the Congo</td>\n",
       "      <td>NaN</td>\n",
       "    </tr>\n",
       "    <tr>\n",
       "      <th>56</th>\n",
       "      <td>Eswatini</td>\n",
       "      <td>NaN</td>\n",
       "    </tr>\n",
       "    <tr>\n",
       "      <th>73</th>\n",
       "      <td>Vatican City</td>\n",
       "      <td>NaN</td>\n",
       "    </tr>\n",
       "    <tr>\n",
       "      <th>81</th>\n",
       "      <td>Republic of Ireland</td>\n",
       "      <td>NaN</td>\n",
       "    </tr>\n",
       "    <tr>\n",
       "      <th>119</th>\n",
       "      <td>Namibia</td>\n",
       "      <td>NaN</td>\n",
       "    </tr>\n",
       "    <tr>\n",
       "      <th>128</th>\n",
       "      <td>North Macedonia</td>\n",
       "      <td>NaN</td>\n",
       "    </tr>\n",
       "    <tr>\n",
       "      <th>133</th>\n",
       "      <td>Palestinian National Authority</td>\n",
       "      <td>NaN</td>\n",
       "    </tr>\n",
       "  </tbody>\n",
       "</table>\n",
       "</div>"
      ],
      "text/plain": [
       "                            country abbreviation\n",
       "39            Republic of the Congo          NaN\n",
       "56                         Eswatini          NaN\n",
       "73                     Vatican City          NaN\n",
       "81              Republic of Ireland          NaN\n",
       "119                         Namibia          NaN\n",
       "128                 North Macedonia          NaN\n",
       "133  Palestinian National Authority          NaN"
      ]
     },
     "execution_count": 8,
     "metadata": {},
     "output_type": "execute_result"
    }
   ],
   "source": [
    "data_world.loc[data_world[\"abbreviation\"].isnull(),[\"country\", 'abbreviation']]"
   ]
  },
  {
   "cell_type": "code",
   "execution_count": 9,
   "metadata": {},
   "outputs": [
    {
     "name": "stderr",
     "output_type": "stream",
     "text": [
      "/tmp/ipykernel_11144/2106397963.py:1: SettingWithCopyWarning: \n",
      "A value is trying to be set on a copy of a slice from a DataFrame\n",
      "\n",
      "See the caveats in the documentation: https://pandas.pydata.org/pandas-docs/stable/user_guide/indexing.html#returning-a-view-versus-a-copy\n",
      "  data_world[\"abbreviation\"][[39,56,73,81,119,128,133]] = ['CG','SZ','VA','IE','NA','MK','PS']\n"
     ]
    }
   ],
   "source": [
    "data_world[\"abbreviation\"][[39,56,73,81,119,128,133]] = ['CG','SZ','VA','IE','NA','MK','PS']"
   ]
  },
  {
   "cell_type": "markdown",
   "metadata": {},
   "source": [
    "Columna Capital/Major_city"
   ]
  },
  {
   "cell_type": "code",
   "execution_count": 10,
   "metadata": {},
   "outputs": [
    {
     "data": {
      "text/plain": [
       "97                              Libya\n",
       "133    Palestinian National Authority\n",
       "156                         Singapore\n",
       "Name: country, dtype: object"
      ]
     },
     "execution_count": 10,
     "metadata": {},
     "output_type": "execute_result"
    }
   ],
   "source": [
    "data_world.loc[data_world[\"capital/major_city\"].isnull(),\"country\"]"
   ]
  },
  {
   "cell_type": "code",
   "execution_count": 11,
   "metadata": {},
   "outputs": [
    {
     "name": "stderr",
     "output_type": "stream",
     "text": [
      "/tmp/ipykernel_11144/2117015337.py:1: SettingWithCopyWarning: \n",
      "A value is trying to be set on a copy of a slice from a DataFrame\n",
      "\n",
      "See the caveats in the documentation: https://pandas.pydata.org/pandas-docs/stable/user_guide/indexing.html#returning-a-view-versus-a-copy\n",
      "  data_world[\"capital/major_city\"][[97,133,156]] = ['Tripoli','Ramallah','Singapore City']\n"
     ]
    }
   ],
   "source": [
    "data_world[\"capital/major_city\"][[97,133,156]] = ['Tripoli','Ramallah','Singapore City']"
   ]
  },
  {
   "cell_type": "markdown",
   "metadata": {},
   "source": [
    "Columna Currency_code"
   ]
  },
  {
   "cell_type": "code",
   "execution_count": 12,
   "metadata": {},
   "outputs": [
    {
     "data": {
      "text/plain": [
       "11                        The Bahamas\n",
       "19                             Bhutan\n",
       "30                           Cambodia\n",
       "33           Central African Republic\n",
       "52                        El Salvador\n",
       "56                           Eswatini\n",
       "85                              Japan\n",
       "95                            Lesotho\n",
       "96                            Liberia\n",
       "104                          Maldives\n",
       "119                           Namibia\n",
       "122                       Netherlands\n",
       "133    Palestinian National Authority\n",
       "134                            Panama\n",
       "194                          Zimbabwe\n",
       "Name: country, dtype: object"
      ]
     },
     "execution_count": 12,
     "metadata": {},
     "output_type": "execute_result"
    }
   ],
   "source": [
    "data_world.loc[data_world[\"currency-code\"].isnull(),\"country\"]"
   ]
  },
  {
   "cell_type": "code",
   "execution_count": 13,
   "metadata": {},
   "outputs": [
    {
     "name": "stderr",
     "output_type": "stream",
     "text": [
      "/tmp/ipykernel_11144/3566825480.py:1: SettingWithCopyWarning: \n",
      "A value is trying to be set on a copy of a slice from a DataFrame\n",
      "\n",
      "See the caveats in the documentation: https://pandas.pydata.org/pandas-docs/stable/user_guide/indexing.html#returning-a-view-versus-a-copy\n",
      "  data_world[\"currency-code\"][11,19, 30, 33, 52, 56, 85, 95, 96, 104, 119, 122, 133, 134, 194] = [\"BSD\", \"BTN\", \"KHR\", \"XAF\", \"USD\", \"SZL\", \"JPY\", \"LSL\", \"LRD\", \"MVR\", \"NAD\", \"EUR\", \"ILS\", \"PAB\", \"ZWL\"]\n",
      "/home/mariacrespocalabuig/anaconda3/lib/python3.9/site-packages/pandas/core/indexing.py:1732: SettingWithCopyWarning: \n",
      "A value is trying to be set on a copy of a slice from a DataFrame\n",
      "\n",
      "See the caveats in the documentation: https://pandas.pydata.org/pandas-docs/stable/user_guide/indexing.html#returning-a-view-versus-a-copy\n",
      "  self._setitem_single_block(indexer, value, name)\n"
     ]
    }
   ],
   "source": [
    "data_world[\"currency-code\"][11,19, 30, 33, 52, 56, 85, 95, 96, 104, 119, 122, 133, 134, 194] = [\"BSD\", \"BTN\", \"KHR\", \"XAF\", \"USD\", \"SZL\", \"JPY\", \"LSL\", \"LRD\", \"MVR\", \"NAD\", \"EUR\", \"ILS\", \"PAB\", \"ZWL\"]"
   ]
  },
  {
   "cell_type": "markdown",
   "metadata": {},
   "source": [
    "Columna Official lenguage"
   ]
  },
  {
   "cell_type": "code",
   "execution_count": 14,
   "metadata": {},
   "outputs": [
    {
     "data": {
      "text/html": [
       "<div>\n",
       "<style scoped>\n",
       "    .dataframe tbody tr th:only-of-type {\n",
       "        vertical-align: middle;\n",
       "    }\n",
       "\n",
       "    .dataframe tbody tr th {\n",
       "        vertical-align: top;\n",
       "    }\n",
       "\n",
       "    .dataframe thead th {\n",
       "        text-align: right;\n",
       "    }\n",
       "</style>\n",
       "<table border=\"1\" class=\"dataframe\">\n",
       "  <thead>\n",
       "    <tr style=\"text-align: right;\">\n",
       "      <th></th>\n",
       "      <th>country</th>\n",
       "    </tr>\n",
       "  </thead>\n",
       "  <tbody>\n",
       "    <tr>\n",
       "      <th>8</th>\n",
       "      <td>Australia</td>\n",
       "    </tr>\n",
       "    <tr>\n",
       "      <th>85</th>\n",
       "      <td>Japan</td>\n",
       "    </tr>\n",
       "    <tr>\n",
       "      <th>110</th>\n",
       "      <td>Mexico</td>\n",
       "    </tr>\n",
       "    <tr>\n",
       "      <th>150</th>\n",
       "      <td>Sao Tome and Principe</td>\n",
       "    </tr>\n",
       "    <tr>\n",
       "      <th>186</th>\n",
       "      <td>United States</td>\n",
       "    </tr>\n",
       "  </tbody>\n",
       "</table>\n",
       "</div>"
      ],
      "text/plain": [
       "                   country\n",
       "8                Australia\n",
       "85                   Japan\n",
       "110                 Mexico\n",
       "150  Sao Tome and Principe\n",
       "186          United States"
      ]
     },
     "execution_count": 14,
     "metadata": {},
     "output_type": "execute_result"
    }
   ],
   "source": [
    "data_world.loc[data_world[\"official_language\"].isnull(),[\"country\"]]"
   ]
  },
  {
   "cell_type": "code",
   "execution_count": 15,
   "metadata": {},
   "outputs": [
    {
     "name": "stderr",
     "output_type": "stream",
     "text": [
      "/tmp/ipykernel_11144/1706071842.py:1: SettingWithCopyWarning: \n",
      "A value is trying to be set on a copy of a slice from a DataFrame\n",
      "\n",
      "See the caveats in the documentation: https://pandas.pydata.org/pandas-docs/stable/user_guide/indexing.html#returning-a-view-versus-a-copy\n",
      "  data_world[\"official_language\"][8,85,110,150,186] = [\"English\",\"Japanese\",\"Spanish\",\"Portuguese\",\"English\"]\n",
      "/home/mariacrespocalabuig/anaconda3/lib/python3.9/site-packages/pandas/core/indexing.py:1732: SettingWithCopyWarning: \n",
      "A value is trying to be set on a copy of a slice from a DataFrame\n",
      "\n",
      "See the caveats in the documentation: https://pandas.pydata.org/pandas-docs/stable/user_guide/indexing.html#returning-a-view-versus-a-copy\n",
      "  self._setitem_single_block(indexer, value, name)\n"
     ]
    }
   ],
   "source": [
    "data_world[\"official_language\"][8,85,110,150,186] = [\"English\",\"Japanese\",\"Spanish\",\"Portuguese\",\"English\"]"
   ]
  },
  {
   "cell_type": "markdown",
   "metadata": {},
   "source": [
    "Columna Continente"
   ]
  },
  {
   "cell_type": "code",
   "execution_count": 16,
   "metadata": {},
   "outputs": [
    {
     "data": {
      "text/html": [
       "<div>\n",
       "<style scoped>\n",
       "    .dataframe tbody tr th:only-of-type {\n",
       "        vertical-align: middle;\n",
       "    }\n",
       "\n",
       "    .dataframe tbody tr th {\n",
       "        vertical-align: top;\n",
       "    }\n",
       "\n",
       "    .dataframe thead th {\n",
       "        text-align: right;\n",
       "    }\n",
       "</style>\n",
       "<table border=\"1\" class=\"dataframe\">\n",
       "  <thead>\n",
       "    <tr style=\"text-align: right;\">\n",
       "      <th></th>\n",
       "      <th>country</th>\n",
       "    </tr>\n",
       "  </thead>\n",
       "  <tbody>\n",
       "    <tr>\n",
       "      <th>81</th>\n",
       "      <td>Republic of Ireland</td>\n",
       "    </tr>\n",
       "    <tr>\n",
       "      <th>111</th>\n",
       "      <td>Federated States of Micronesia</td>\n",
       "    </tr>\n",
       "    <tr>\n",
       "      <th>150</th>\n",
       "      <td>Sao Tome and Principe</td>\n",
       "    </tr>\n",
       "    <tr>\n",
       "      <th>162</th>\n",
       "      <td>South Korea</td>\n",
       "    </tr>\n",
       "    <tr>\n",
       "      <th>174</th>\n",
       "      <td>East Timor</td>\n",
       "    </tr>\n",
       "  </tbody>\n",
       "</table>\n",
       "</div>"
      ],
      "text/plain": [
       "                            country\n",
       "81              Republic of Ireland\n",
       "111  Federated States of Micronesia\n",
       "150           Sao Tome and Principe\n",
       "162                     South Korea\n",
       "174                      East Timor"
      ]
     },
     "execution_count": 16,
     "metadata": {},
     "output_type": "execute_result"
    }
   ],
   "source": [
    "data_world.loc[data_world[\"continent\"].isnull(),[\"country\"]]"
   ]
  },
  {
   "cell_type": "code",
   "execution_count": 17,
   "metadata": {},
   "outputs": [
    {
     "name": "stderr",
     "output_type": "stream",
     "text": [
      "/tmp/ipykernel_11144/922468638.py:1: SettingWithCopyWarning: \n",
      "A value is trying to be set on a copy of a slice from a DataFrame\n",
      "\n",
      "See the caveats in the documentation: https://pandas.pydata.org/pandas-docs/stable/user_guide/indexing.html#returning-a-view-versus-a-copy\n",
      "  data_world[\"continent\"][81,111,150,162,174]= [\"Europe\",\"Oceania\",\"Africa\",\"Asia\",\"Asia\"]\n",
      "/home/mariacrespocalabuig/anaconda3/lib/python3.9/site-packages/pandas/core/indexing.py:1732: SettingWithCopyWarning: \n",
      "A value is trying to be set on a copy of a slice from a DataFrame\n",
      "\n",
      "See the caveats in the documentation: https://pandas.pydata.org/pandas-docs/stable/user_guide/indexing.html#returning-a-view-versus-a-copy\n",
      "  self._setitem_single_block(indexer, value, name)\n"
     ]
    }
   ],
   "source": [
    "data_world[\"continent\"][81,111,150,162,174]= [\"Europe\",\"Oceania\",\"Africa\",\"Asia\",\"Asia\"]"
   ]
  },
  {
   "cell_type": "markdown",
   "metadata": {},
   "source": [
    "Columna Largest City"
   ]
  },
  {
   "cell_type": "code",
   "execution_count": 18,
   "metadata": {},
   "outputs": [
    {
     "name": "stderr",
     "output_type": "stream",
     "text": [
      "/tmp/ipykernel_11144/284562146.py:1: SettingWithCopyWarning: \n",
      "A value is trying to be set on a copy of a slice from a DataFrame\n",
      "\n",
      "See the caveats in the documentation: https://pandas.pydata.org/pandas-docs/stable/user_guide/indexing.html#returning-a-view-versus-a-copy\n",
      "  data_world[\"largest_city\"][24,73,97,120,133,156] = [\"Bandar Seri Begawan\",\"Vatican City\",\"Tripoli\",\"Yaren\",\"Gaza City\",\"Singapore City\"]\n"
     ]
    }
   ],
   "source": [
    "data_world[\"largest_city\"][24,73,97,120,133,156] = [\"Bandar Seri Begawan\",\"Vatican City\",\"Tripoli\",\"Yaren\",\"Gaza City\",\"Singapore City\"]\n"
   ]
  },
  {
   "cell_type": "code",
   "execution_count": 19,
   "metadata": {},
   "outputs": [
    {
     "data": {
      "text/plain": [
       "Series([], Name: country, dtype: object)"
      ]
     },
     "execution_count": 19,
     "metadata": {},
     "output_type": "execute_result"
    }
   ],
   "source": [
    "data_world.loc[data_world[\"largest_city\"].isnull(),\"country\"]"
   ]
  },
  {
   "cell_type": "markdown",
   "metadata": {},
   "source": [
    "Análisis columnas numéricas"
   ]
  },
  {
   "cell_type": "code",
   "execution_count": 20,
   "metadata": {},
   "outputs": [
    {
     "data": {
      "text/plain": [
       "['agricultural_land',\n",
       " 'land_area',\n",
       " 'armed_forces_size',\n",
       " 'birth_rate',\n",
       " 'calling_code',\n",
       " 'co2-emissions',\n",
       " 'cpi',\n",
       " 'cpi_change',\n",
       " 'fertility_rate',\n",
       " 'forested_area',\n",
       " 'gasoline_price',\n",
       " 'gdp',\n",
       " 'gross_primary_education_enrollment',\n",
       " 'gross_tertiary_education_enrollment',\n",
       " 'infant_mortality',\n",
       " 'life_expectancy',\n",
       " 'maternal_mortality_ratio',\n",
       " 'minimum_wage',\n",
       " 'out_of_pocket_health_expenditure',\n",
       " 'physicians_per_thousand',\n",
       " 'population',\n",
       " 'population_labor_force_participation',\n",
       " 'tax_revenue',\n",
       " 'total_tax_rate',\n",
       " 'unemployment_rate',\n",
       " 'urban_population',\n",
       " 'Latitud',\n",
       " 'Longitud']"
      ]
     },
     "execution_count": 20,
     "metadata": {},
     "output_type": "execute_result"
    }
   ],
   "source": [
    "num_columns"
   ]
  },
  {
   "cell_type": "code",
   "execution_count": 25,
   "metadata": {},
   "outputs": [
    {
     "name": "stdout",
     "output_type": "stream",
     "text": [
      "Revisando AGRICULTURAL_LAND:\n",
      "Media: 39.11755319148937\n",
      "Mediana: 39.6\n",
      "Min: 0.6\n",
      "Max: 82.6\n",
      " \n",
      "Revisando LAND_AREA:\n",
      "Media: 689624.3659793815\n",
      "Mediana: 119511.0\n",
      "Min: 0.0\n",
      "Max: 17098240.0\n",
      " \n",
      "Revisando ARMED_FORCES_SIZE:\n",
      "Media: 159274.85380116958\n",
      "Mediana: 31000.0\n",
      "Min: 0.0\n",
      "Max: 3031000.0\n",
      " \n",
      "Revisando BIRTH_RATE:\n",
      "Media: 20.21497354497354\n",
      "Mediana: 17.95\n",
      "Min: 5.9\n",
      "Max: 46.08\n",
      " \n",
      "Revisando CALLING_CODE:\n",
      "Media: 360.54639175257734\n",
      "Mediana: 255.5\n",
      "Min: 1.0\n",
      "Max: 1876.0\n",
      " \n",
      "Revisando CO2-EMISSIONS:\n",
      "Media: 177799.23936170212\n",
      "Mediana: 12303.0\n",
      "Min: 11.0\n",
      "Max: 9893038.0\n",
      " \n",
      "Revisando CPI:\n",
      "Media: 190.46095505617976\n",
      "Mediana: 125.34\n",
      "Min: 99.03\n",
      "Max: 4583.71\n",
      " \n",
      "Revisando CPI_CHANGE:\n",
      "Media: 6.722346368715085\n",
      "Mediana: 2.3\n",
      "Min: -4.3\n",
      "Max: 254.9\n",
      " \n",
      "Revisando FERTILITY_RATE:\n",
      "Media: 2.698138297872339\n",
      "Mediana: 2.245\n",
      "Min: 0.98\n",
      "Max: 6.91\n",
      " \n",
      "Revisando FORESTED_AREA:\n",
      "Media: 32.01542553191489\n",
      "Mediana: 32.0\n",
      "Min: 0.0\n",
      "Max: 98.3\n",
      " \n",
      "Revisando GASOLINE_PRICE:\n",
      "Media: 1.0024571428571427\n",
      "Mediana: 0.98\n",
      "Min: 0.0\n",
      "Max: 2.0\n",
      " \n",
      "Revisando GDP:\n",
      "Media: 477295901399.5389\n",
      "Mediana: 34387229486.0\n",
      "Min: 47271463.0\n",
      "Max: 21427700000000.0\n",
      " \n",
      "Revisando GROSS_PRIMARY_EDUCATION_ENROLLMENT:\n",
      "Media: 102.47021276595747\n",
      "Mediana: 102.55\n",
      "Min: 23.4\n",
      "Max: 142.5\n",
      " \n",
      "Revisando GROSS_TERTIARY_EDUCATION_ENROLLMENT:\n",
      "Media: 37.96338797814208\n",
      "Mediana: 31.2\n",
      "Min: 0.8\n",
      "Max: 136.6\n",
      " \n",
      "Revisando INFANT_MORTALITY:\n",
      "Media: 21.33280423280423\n",
      "Mediana: 14.0\n",
      "Min: 1.4\n",
      "Max: 84.5\n",
      " \n",
      "Revisando LIFE_EXPECTANCY:\n",
      "Media: 72.27967914438497\n",
      "Mediana: 73.2\n",
      "Min: 52.8\n",
      "Max: 85.4\n",
      " \n",
      "Revisando MATERNAL_MORTALITY_RATIO:\n",
      "Media: 160.39226519337018\n",
      "Mediana: 53.0\n",
      "Min: 2.0\n",
      "Max: 1150.0\n",
      " \n",
      "Revisando MINIMUM_WAGE:\n",
      "Media: 2.194133333333334\n",
      "Mediana: 1.045\n",
      "Min: 0.01\n",
      "Max: 13.59\n",
      " \n",
      "Revisando OUT_OF_POCKET_HEALTH_EXPENDITURE:\n",
      "Media: 32.637234042553196\n",
      "Mediana: 30.7\n",
      "Min: 0.2\n",
      "Max: 81.6\n",
      " \n",
      "Revisando PHYSICIANS_PER_THOUSAND:\n",
      "Media: 1.8398404255319156\n",
      "Mediana: 1.46\n",
      "Min: 0.01\n",
      "Max: 8.42\n",
      " \n",
      "Revisando POPULATION:\n",
      "Media: 39381164.01030928\n",
      "Mediana: 8826588.0\n",
      "Min: 836.0\n",
      "Max: 1397715000.0\n",
      " \n",
      "Revisando POPULATION_LABOR_FORCE_PARTICIPATION:\n",
      "Media: 62.73806818181817\n",
      "Mediana: 62.45\n",
      "Min: 38.0\n",
      "Max: 86.8\n",
      " \n",
      "Revisando TAX_REVENUE:\n",
      "Media: 16.573964497041416\n",
      "Mediana: 16.3\n",
      "Min: 0.0\n",
      "Max: 37.2\n",
      " \n",
      "Revisando TOTAL_TAX_RATE:\n",
      "Media: 40.8224043715847\n",
      "Mediana: 37.2\n",
      "Min: 8.0\n",
      "Max: 219.6\n",
      " \n",
      "Revisando UNEMPLOYMENT_RATE:\n",
      "Media: 6.886363636363638\n",
      "Mediana: 5.36\n",
      "Min: 0.09\n",
      "Max: 28.18\n",
      " \n",
      "Revisando URBAN_POPULATION:\n",
      "Media: 22304543.215789475\n",
      "Mediana: 4678103.5\n",
      "Min: 5464.0\n",
      "Max: 842933962.0\n",
      " \n",
      "Revisando LATITUD:\n",
      "Media: 19.092351475257733\n",
      "Mediana: 17.273849499999997\n",
      "Min: -40.900557\n",
      "Max: 64.963051\n",
      " \n",
      "Revisando LONGITUD:\n",
      "Media: 20.232434489175258\n",
      "Mediana: 20.9726515\n",
      "Min: -175.198242\n",
      "Max: 178.065032\n",
      " \n"
     ]
    }
   ],
   "source": [
    "for column in num_columns:\n",
    "    print(f\"Revisando {column.upper()}:\")\n",
    "    desc = data_world[column].dropna().describe()\n",
    "    print(\"Media:\", desc['mean'])\n",
    "    print(\"Mediana:\", desc['50%'])\n",
    "    print(\"Min:\",desc['min'])\n",
    "    print(\"Max:\",desc ['max'])\n",
    "    print(\" \")"
   ]
  },
  {
   "cell_type": "code",
   "execution_count": 36,
   "metadata": {},
   "outputs": [],
   "source": [
    "lista_mediana = ['calling_code','Latitud','Longitud','gdp','birth_rate','infant_mortality','agricultural_land','fertility_rate','forested_area','gross_primary_education_enrollment','out_of_pocket_health_expenditure','physicians_per_thousand','life_expectancy','gross_tertiary_education_enrollment','total_tax_rate','population_labor_force_participation','unemployment_rate']"
   ]
  },
  {
   "cell_type": "code",
   "execution_count": 37,
   "metadata": {},
   "outputs": [],
   "source": [
    "imputer = SimpleImputer(strategy =\"median\")\n",
    "data_world[lista_mediana] = imputer.fit_transform(data_world[lista_mediana])"
   ]
  },
  {
   "cell_type": "code",
   "execution_count": 40,
   "metadata": {},
   "outputs": [],
   "source": [
    "lista_iterativo = ['land_area','population','urban_population','co2-emissions','maternal_mortality_ratio','cpi_change','cpi','gasoline_price','armed_forces_size','tax_revenue','minimum_wage']\n"
   ]
  },
  {
   "cell_type": "code",
   "execution_count": 41,
   "metadata": {},
   "outputs": [],
   "source": [
    "imputer_iterative = IterativeImputer(max_iter = 20, random_state = 42)\n",
    "imputer_iterative_imputado = imputer_iterative.fit_transform(data_world[lista_iterativo])\n",
    "data_world[lista_iterativo] = imputer_iterative_imputado"
   ]
  },
  {
   "cell_type": "code",
   "execution_count": 42,
   "metadata": {},
   "outputs": [
    {
     "name": "stdout",
     "output_type": "stream",
     "text": [
      "Las columnas que contienen nulos son:\n",
      "\n"
     ]
    }
   ],
   "source": [
    "print(\"Las columnas que contienen nulos son:\\n\")\n",
    "columnas_null = []\n",
    "for column in data_world.columns:\n",
    "    \n",
    "    if data_world[column].isna().sum() > 0:\n",
    "        print(f\"{column} --- {data_world[column].isna().sum()} nulos\")\n",
    "        columnas_null.append(column)"
   ]
  },
  {
   "cell_type": "code",
   "execution_count": 43,
   "metadata": {},
   "outputs": [],
   "source": [
    "data_world.to_csv(\"data_nonull.csv\")"
   ]
  },
  {
   "cell_type": "markdown",
   "metadata": {},
   "source": [
    "**Explicación sobre el criterio de aplicación**"
   ]
  },
  {
   "cell_type": "markdown",
   "metadata": {},
   "source": [
    "Nos dimos cuenta de que en todas las variables categóricas se podía averiguar el dato faltante en base al país, así que en lugar de imputar los nulos con la moda o 'unknown' buscamos los datos reales y los introdujimos mediante asignación directa.\n",
    "\n",
    "'abbreviation', <br>\n",
    " 'capital/major_city', <br>\n",
    " 'currency-code',<br>\n",
    " 'largest_city',<br>\n",
    " 'official_language',<br>\n",
    " 'continent'<br>"
   ]
  },
  {
   "cell_type": "markdown",
   "metadata": {},
   "source": [
    "Las columnas numéricas que contenian valores nulos son las siguientes: <br>\n",
    "    'agricultural_land',<br>\n",
    "    'land_area',<br>\n",
    "    'armed_forces_size',<br>\n",
    "    'birth_rate',<br>\n",
    "    'calling_code',<br>\n",
    "    'co2-emissions',<br>\n",
    "    'cpi',<br>\n",
    "    'cpi_change',<br>\n",
    "    'fertility_rate',<br>\n",
    "    'forested_area',<br>\n",
    "    'gasoline_price',<br>\n",
    "    'gdp',<br>\n",
    "    'gross_primary_education_enrollment',<br>\n",
    "    'gross_tertiary_education_enrollment',<br>\n",
    "    'infant_mortality',<br>\n",
    "    'life_expectancy',<br>\n",
    "    'maternal_mortality_ratio',<br>\n",
    "    'minimum_wage',<br>\n",
    "    'out_of_pocket_health_expenditure',<br>\n",
    "    'physicians_per_thousand',<br>\n",
    "    'population',<br>\n",
    "    'population_labor_force_participation', <br>\n",
    "    'tax_revenue',<br>\n",
    "    'total_tax_rate',<br>\n",
    "    'unemployment_rate',<br>\n",
    "    'urban_population',<br>\n",
    "    'Latitud',<br>\n",
    "    'Longitud'<br>"
   ]
  },
  {
   "cell_type": "markdown",
   "metadata": {},
   "source": [
    "Para evaluar que criterio aplicábamos, hemos iterado por cada columna para sacar el valor de la mediana, la media, el máximo y mínimo, finalmente, hemos decidido que:<br>\n",
    "\n",
    "si la dispersión de la media/mediana era muy alta, aplicabamos el método iterative de lo contrario, hemos reemplazado los nulos por la mediana."
   ]
  }
 ],
 "metadata": {
  "kernelspec": {
   "display_name": "Python 3",
   "language": "python",
   "name": "python3"
  },
  "language_info": {
   "codemirror_mode": {
    "name": "ipython",
    "version": 3
   },
   "file_extension": ".py",
   "mimetype": "text/x-python",
   "name": "python",
   "nbconvert_exporter": "python",
   "pygments_lexer": "ipython3",
   "version": "3.9.7"
  }
 },
 "nbformat": 4,
 "nbformat_minor": 2
}
