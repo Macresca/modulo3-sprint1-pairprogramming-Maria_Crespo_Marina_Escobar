{
 "cells": [
  {
   "cell_type": "code",
   "execution_count": 3,
   "metadata": {},
   "outputs": [],
   "source": [
    "import pandas as pd\n",
    "import numpy as np\n",
    "import random"
   ]
  },
  {
   "cell_type": "markdown",
   "metadata": {},
   "source": [
    "1. ¿Qué diferencia hay entre una Serie y un DataFrame?"
   ]
  },
  {
   "cell_type": "markdown",
   "metadata": {},
   "source": [
    "Las dimensiones, las series son unidimensionales y los DataFrame bidimensionales."
   ]
  },
  {
   "cell_type": "markdown",
   "metadata": {},
   "source": [
    "\n",
    "2.Momento de trabajar con Series. Contesta a las siguientes preguntas:\n",
    "\n",
    "    Crea dos listas:\n",
    "\n",
    "        Una que se llame \"valores\" que tenga 7 números aleatorios.\n",
    "\n",
    "        Otra que se llame \"indices\" que tenga 7 strings que se llamen como los días de la semana.\n",
    "\n",
    "    A partir de estas dos listas crea una Serie donde la variable \"valores\" sean los valores de la Serie y la variable indices sean los índices de la Serie.\n",
    "\n",
    "    A partir de las dos listas anteriores crea un diccionario usando un bucle for. Para hacer esto tenemos el método zip que nos permite iterar por dos listas a la vez. Más informción sobre este método aquí.\n",
    "\n",
    "    Crea una Serie con el diccionario creado en el punto anterior.\n",
    "\n",
    "    ¿Qué forma tiene esta última Serie?\n",
    "\n",
    "    ¿Qué tipo de datos tiene?\n",
    "\n",
    "    ¿Qué tamaño tiene?\n",
    "\n",
    "    ¿Cuáles son los índices de la Serie?\n",
    "\n",
    "    ¿Y los values?\n",
    "\n",
    "    Extrae el valor para el índice \"lunes\"\n",
    "\n",
    "    Extrae el valor para el índice \"lunes\", \"martes\" y \"miércoles\".\n",
    "\n",
    "    Extrae el valor para el índice \"lunes\" y \"domingo\"."
   ]
  },
  {
   "cell_type": "code",
   "execution_count": 9,
   "metadata": {},
   "outputs": [
    {
     "name": "stdout",
     "output_type": "stream",
     "text": [
      "nuestra lista de valores aleatorios es :[14, 18, 15, 7, 6, 2, 13]\n",
      "nuestra lista de indices es: ['lunes', 'martes', 'miercoles', 'jueves', 'viernes', 'sabado', 'domingo']\n"
     ]
    }
   ],
   "source": [
    "# Crea dos listas\n",
    "\n",
    "valores = list(random.sample(range(1,20),7))\n",
    "\n",
    "print(f'nuestra lista de valores aleatorios es :{valores}')\n",
    "\n",
    "\n",
    "indices = ['lunes','martes','miercoles', 'jueves', 'viernes','sabado','domingo']\n",
    "\n",
    "print(f'nuestra lista de indices es: {indices}')"
   ]
  },
  {
   "cell_type": "code",
   "execution_count": 14,
   "metadata": {},
   "outputs": [
    {
     "name": "stdout",
     "output_type": "stream",
     "text": [
      "la serie creada es :\n",
      "lunes        14\n",
      "martes       18\n",
      "miercoles    15\n",
      "jueves        7\n",
      "viernes       6\n",
      "sabado        2\n",
      "domingo      13\n",
      "dtype: int64\n"
     ]
    }
   ],
   "source": [
    "#Crea una serie\n",
    "\n",
    "weekly_serie = pd.Series(valores,index = indices)\n",
    "\n",
    "print(f'la serie creada es :\\n{weekly_serie}')"
   ]
  },
  {
   "cell_type": "code",
   "execution_count": 19,
   "metadata": {},
   "outputs": [
    {
     "name": "stdout",
     "output_type": "stream",
     "text": [
      "nuestro diccionario es:{'lunes': 14, 'martes': 18, 'miercoles': 15, 'jueves': 7, 'viernes': 6, 'sabado': 2, 'domingo': 13}\n"
     ]
    }
   ],
   "source": [
    "#Crea un diccionario\n",
    "\n",
    "dict_weekly = {}\n",
    "\n",
    "for indice, valor in zip(indices, valores):\n",
    "    dict_weekly[indice]=valor\n",
    "\n",
    "print(f'nuestro diccionario es:{dict_weekly}')"
   ]
  },
  {
   "cell_type": "code",
   "execution_count": 21,
   "metadata": {},
   "outputs": [
    {
     "name": "stdout",
     "output_type": "stream",
     "text": [
      "lunes        14\n",
      "martes       18\n",
      "miercoles    15\n",
      "jueves        7\n",
      "viernes       6\n",
      "sabado        2\n",
      "domingo      13\n",
      "dtype: int64\n"
     ]
    }
   ],
   "source": [
    "#Crea una serie a partir de un diccionario\n",
    "\n",
    "weekly_serie_dict = pd.Series(dict_weekly)\n",
    "\n",
    "print(weekly_serie_dict)"
   ]
  },
  {
   "cell_type": "code",
   "execution_count": 24,
   "metadata": {},
   "outputs": [
    {
     "name": "stdout",
     "output_type": "stream",
     "text": [
      "la forma de la serie es: (7,)\n"
     ]
    }
   ],
   "source": [
    "#Forma de la serie\n",
    "\n",
    "print(f'la forma de la serie es: {weekly_serie_dict.shape}')"
   ]
  },
  {
   "cell_type": "code",
   "execution_count": 25,
   "metadata": {},
   "outputs": [
    {
     "name": "stdout",
     "output_type": "stream",
     "text": [
      "el tipo de la serie es int64\n"
     ]
    }
   ],
   "source": [
    "#Tipo de dato\n",
    "\n",
    "print(f'el tipo de la serie es {weekly_serie_dict.dtype}')"
   ]
  },
  {
   "cell_type": "code",
   "execution_count": 26,
   "metadata": {},
   "outputs": [
    {
     "name": "stdout",
     "output_type": "stream",
     "text": [
      "el tamaño de la serie es: 7\n"
     ]
    }
   ],
   "source": [
    "#Tamaño\n",
    "\n",
    "print(f'el tamaño de la serie es: {weekly_serie_dict.size}')"
   ]
  },
  {
   "cell_type": "code",
   "execution_count": 28,
   "metadata": {},
   "outputs": [
    {
     "name": "stdout",
     "output_type": "stream",
     "text": [
      "los intices de la serie son:\n",
      "Index(['lunes', 'martes', 'miercoles', 'jueves', 'viernes', 'sabado',\n",
      "       'domingo'],\n",
      "      dtype='object')\n"
     ]
    }
   ],
   "source": [
    "#indices\n",
    "\n",
    "print(f'los indices de la serie son:\\n{weekly_serie_dict.index}')"
   ]
  },
  {
   "cell_type": "code",
   "execution_count": 29,
   "metadata": {},
   "outputs": [
    {
     "name": "stdout",
     "output_type": "stream",
     "text": [
      "los valore de la serie son:\n",
      "[14 18 15  7  6  2 13]\n"
     ]
    }
   ],
   "source": [
    "#valores\n",
    "\n",
    "print(f'los valore de la serie son:\\n{weekly_serie_dict.values}')"
   ]
  },
  {
   "cell_type": "code",
   "execution_count": 34,
   "metadata": {},
   "outputs": [
    {
     "name": "stdout",
     "output_type": "stream",
     "text": [
      "el valor del indice para el lunes es: 14\n"
     ]
    }
   ],
   "source": [
    "#valor indice lunes\n",
    "\n",
    "print(f'el valor del indice para el lunes es: {weekly_serie_dict[\"lunes\"]}')"
   ]
  },
  {
   "cell_type": "code",
   "execution_count": 37,
   "metadata": {},
   "outputs": [
    {
     "name": "stdout",
     "output_type": "stream",
     "text": [
      "el valor del indice para el lunes, martes y miercoles son:\n",
      "lunes        14\n",
      "martes       18\n",
      "miercoles    15\n",
      "dtype: int64\n"
     ]
    }
   ],
   "source": [
    "#valor indice lunes, martes y miércoles\n",
    "\n",
    "print(f'el valor del indice para el lunes, martes y miercoles son:\\n{weekly_serie_dict[\"lunes\":\"miercoles\"]}')"
   ]
  },
  {
   "cell_type": "code",
   "execution_count": 42,
   "metadata": {},
   "outputs": [
    {
     "name": "stdout",
     "output_type": "stream",
     "text": [
      "el valor del indice para el lunes y domingo son:\n",
      "lunes      14\n",
      "domingo    13\n",
      "dtype: int64\n"
     ]
    }
   ],
   "source": [
    "#valor indice Lunes y domingo\n",
    "\n",
    "print(f'el valor del indice para el lunes y domingo son:\\n{weekly_serie_dict[[\"lunes\" , \"domingo\"]]}')"
   ]
  },
  {
   "cell_type": "markdown",
   "metadata": {},
   "source": [
    "3. Es el turno de los DataFrames:\n",
    "\n",
    "    Crea un array de dos dimensiones con 4 filas y 3 columnas.\n",
    "\n",
    "    Convierte el array en un DataFrame donde las columnas se llamen \"España\", \"Francia\" e \"Italia\".\n",
    "\n",
    "    Descarga el archivo \"medallas\" y carga el DataFrame.\n",
    "\n",
    "    Usando el loc extrae todas las columnas de la fila de Tailandia.\n",
    "\n",
    "    Usando el loc extrae todas las columnas de China e Irán.\n",
    "\n",
    "    Usando el loc extrae solo las columnas de \"Oro\", \"Plata\" y \"Bronce\" de China e Irán.\n",
    "\n",
    "    Usando el iloc extrae la información de la India. Devolved todas las columnas.\n",
    "\n",
    "    Usando el iloc extrae todas las columnas de los paises que estén en posición impar. La primera que nos tendría que salir es Japón y la última Corea del Norte.\n",
    "\n",
    "    Utilizando el código del ejercicio anterior, selecciona unicamente las columnas \"Oro\", \"Plata\" y \"Bronce\".\n",
    "\n",
    "    Contesta a las siguientes preguntas:\n",
    "\n",
    "    ¿Qué país consiguió más de 200 medallas de oro?\n",
    "\n",
    "    ¿Qué país consiguió más de 200 medallas de oro y más de 1000 de plata?\n",
    "\n",
    "    ¿Qué país consiguió más de 200 medallas de oro o más de 700 de bronce?\n",
    "\n",
    "    Crea una nueva columma que se llame \"total\" que sea el resultado de la suma de todas las medallas obtenidas por cada país."
   ]
  },
  {
   "cell_type": "code",
   "execution_count": 91,
   "metadata": {},
   "outputs": [
    {
     "name": "stdout",
     "output_type": "stream",
     "text": [
      "El array es\n",
      "[[68 48 11]\n",
      " [ 9 52 42]\n",
      " [88 54 60]\n",
      " [52 86 45]]\n"
     ]
    }
   ],
   "source": [
    "#Array de dos dimensiones con 4 filas y 3 columnas\n",
    "\n",
    "array1 = np.random.randint(1,101,(4,3))\n",
    "\n",
    "print(f'El array es\\n{array1}')"
   ]
  },
  {
   "cell_type": "code",
   "execution_count": 92,
   "metadata": {},
   "outputs": [
    {
     "name": "stdout",
     "output_type": "stream",
     "text": [
      "el data frame es :\n",
      "   España  Francia  Italia\n",
      "0      68       48      11\n",
      "1       9       52      42\n",
      "2      88       54      60\n",
      "3      52       86      45\n"
     ]
    }
   ],
   "source": [
    "#Convierte el array en un DataFrame donde las columnas se llamen \"España\", \"Francia\" e \"Italia\".\n",
    "\n",
    "df_array1 = pd.DataFrame(array1,columns=(\"España\",\"Francia\",\"Italia\"))\n",
    "\n",
    "print(f'el data frame es :\\n{df_array1}')"
   ]
  },
  {
   "cell_type": "code",
   "execution_count": 93,
   "metadata": {},
   "outputs": [
    {
     "name": "stdout",
     "output_type": "stream",
     "text": [
      "el Dataframe medallas es:\n",
      "               País   Oro  Plata  Bronce\n",
      "1             China  1473    994     720\n",
      "2             Japón  1032   1037     985\n",
      "3     Corea del Sur   745    663     827\n",
      "4              Irán   179    181     197\n",
      "5        Kazajistán   155    158     224\n",
      "6             India   154    202     315\n",
      "7         Tailandia   132    175     278\n",
      "8         Indonesia   112    131     240\n",
      "9      China Taipéi    99    144     276\n",
      "10  Corea del Norte    91    120     235\n"
     ]
    }
   ],
   "source": [
    "#Descarga el archivo \"medallas\" y carga el DataFrame.\n",
    "\n",
    "medallas = pd.read_csv('medallas.csv',index_col=0)\n",
    "\n",
    "print(f'el Dataframe medallas es:\\n{medallas}')"
   ]
  },
  {
   "cell_type": "code",
   "execution_count": 97,
   "metadata": {},
   "outputs": [
    {
     "name": "stdout",
     "output_type": "stream",
     "text": [
      "El total de medallas para Tailandia son\n",
      "País      Tailandia\n",
      "Oro             132\n",
      "Plata           175\n",
      "Bronce          278\n",
      "Name: 7, dtype: object\n"
     ]
    }
   ],
   "source": [
    "#Extraer todas las columnas de la fila Tailandia utilizando LOC\n",
    "\n",
    "print(f'El total de medallas para Tailandia son\\n{medallas.loc[7,:]}')"
   ]
  },
  {
   "cell_type": "code",
   "execution_count": 100,
   "metadata": {},
   "outputs": [
    {
     "name": "stdout",
     "output_type": "stream",
     "text": [
      "El total de medallas para China e Iran son:\n",
      "    País   Oro  Plata  Bronce\n",
      "1  China  1473    994     720\n",
      "4   Irán   179    181     197\n"
     ]
    }
   ],
   "source": [
    "#Extraer todas las columnas de la fila China e Iran utilizando LOC\n",
    "\n",
    "print(f'El total de medallas para China e Iran son:\\n{medallas.loc[1:4:3,:]}')"
   ]
  },
  {
   "cell_type": "code",
   "execution_count": 103,
   "metadata": {},
   "outputs": [
    {
     "name": "stdout",
     "output_type": "stream",
     "text": [
      "El total de medallas para China e Iran sin mostrar el país son:\n",
      "     Oro  Plata  Bronce\n",
      "1  1473    994     720\n",
      "4   179    181     197\n"
     ]
    }
   ],
   "source": [
    "#Extraer columnas Oro, plata y bronce de los paises China e Iran utilizando LOC\n",
    "\n",
    "print(f'El total de medallas para China e Iran sin mostrar el país son:\\n {medallas.loc[1:4:3, \"Oro\":\"Bronce\"]}')"
   ]
  },
  {
   "cell_type": "code",
   "execution_count": 106,
   "metadata": {},
   "outputs": [
    {
     "name": "stdout",
     "output_type": "stream",
     "text": [
      "El total de medallas de India son:\n",
      "País      India\n",
      "Oro         154\n",
      "Plata       202\n",
      "Bronce      315\n",
      "Name: 6, dtype: object\n"
     ]
    }
   ],
   "source": [
    "# Extraer infomracion de la India utilizando ILOC\n",
    "\n",
    "print(f'El total de medallas de India son:\\n{medallas.iloc[5,:]}')"
   ]
  },
  {
   "cell_type": "code",
   "execution_count": 108,
   "metadata": {},
   "outputs": [
    {
     "name": "stdout",
     "output_type": "stream",
     "text": [
      "Las medallas en posicions impares son\n",
      "                País   Oro  Plata  Bronce\n",
      "2             Japón  1032   1037     985\n",
      "4              Irán   179    181     197\n",
      "6             India   154    202     315\n",
      "8         Indonesia   112    131     240\n",
      "10  Corea del Norte    91    120     235\n"
     ]
    }
   ],
   "source": [
    "# Extraer todas las filas de la posicion impar utilizando ILOC\n",
    "\n",
    "medallas_impar = medallas.iloc[1::2,]\n",
    "\n",
    "print(f'Las medallas en posicions impares son\\n {medallas_impar}')"
   ]
  },
  {
   "cell_type": "code",
   "execution_count": 109,
   "metadata": {},
   "outputs": [
    {
     "name": "stdout",
     "output_type": "stream",
     "text": [
      "Las medallas en posiciones impares sin incluir el país son:\n",
      "     Oro  Plata  Bronce\n",
      "2   1032   1037     985\n",
      "4    179    181     197\n",
      "6    154    202     315\n",
      "8    112    131     240\n",
      "10    91    120     235\n"
     ]
    }
   ],
   "source": [
    "# Seleccionar oro, plata y bronce de las filas impar utilizando ILOC\n",
    "\n",
    "print(f'Las medallas en posiciones impares sin incluir el país son:\\n{medallas_impar.iloc[:,1:]}')"
   ]
  },
  {
   "cell_type": "code",
   "execution_count": 112,
   "metadata": {},
   "outputs": [
    {
     "name": "stdout",
     "output_type": "stream",
     "text": [
      "Los países que consiguieron mas medallas son:\n",
      "1            China\n",
      "2            Japón\n",
      "3    Corea del Sur\n",
      "Name: País, dtype: object\n"
     ]
    }
   ],
   "source": [
    "# ¿Que país consiguió mas de 200 medallas de oro?\n",
    "\n",
    "print(f'Los países que consiguieron mas medallas de oro son:\\n{medallas.loc[medallas[\"Oro\"]>200,\"País\"]}')"
   ]
  },
  {
   "cell_type": "code",
   "execution_count": 117,
   "metadata": {},
   "outputs": [
    {
     "name": "stdout",
     "output_type": "stream",
     "text": [
      "Los países que consiguieron mas de 200 de oro y más de 1000 de plata es:\n",
      "2    Japón\n",
      "Name: País, dtype: object\n"
     ]
    }
   ],
   "source": [
    "#¿Que país consiguó mas de 200 medallas de oro y más de 1000 de plata?\n",
    "\n",
    "print(f'Los países que consiguieron mas de 200 de oro y más de 1000 de plata es:\\n{medallas.loc[(medallas[\"Oro\"]>200) & (medallas[\"Plata\"]>1000),\"País\"]}')"
   ]
  },
  {
   "cell_type": "code",
   "execution_count": 118,
   "metadata": {},
   "outputs": [
    {
     "name": "stdout",
     "output_type": "stream",
     "text": [
      "Los países que consiguieron mas de 200 de oro y más de 700 de bronce es:\n",
      "1            China\n",
      "2            Japón\n",
      "3    Corea del Sur\n",
      "Name: País, dtype: object\n"
     ]
    }
   ],
   "source": [
    "#¿Que país consiguó mas de 200 medallas de oro o más de 700 de bronce?\n",
    "\n",
    "print(f'Los países que consiguieron mas de 200 de oro y más de 700 de bronce es:\\n{medallas.loc[(medallas[\"Oro\"]>200) | (medallas[\"Bronce\"]>700),\"País\"]}')"
   ]
  }
 ],
 "metadata": {
  "kernelspec": {
   "display_name": "Python 3",
   "language": "python",
   "name": "python3"
  },
  "language_info": {
   "codemirror_mode": {
    "name": "ipython",
    "version": 3
   },
   "file_extension": ".py",
   "mimetype": "text/x-python",
   "name": "python",
   "nbconvert_exporter": "python",
   "pygments_lexer": "ipython3",
   "version": "3.11.8"
  }
 },
 "nbformat": 4,
 "nbformat_minor": 2
}
