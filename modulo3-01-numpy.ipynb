{
 "cells": [
  {
   "cell_type": "code",
   "execution_count": 3,
   "metadata": {},
   "outputs": [],
   "source": [
    "import numpy as np"
   ]
  },
  {
   "cell_type": "markdown",
   "metadata": {},
   "source": [
    "## Creación e Indexación"
   ]
  },
  {
   "cell_type": "markdown",
   "metadata": {},
   "source": [
    "1. Crea un array 1D con 50 valores aleatorio del 10 al 99. Accede a los elementos en las posiciones múltiplos de 5."
   ]
  },
  {
   "cell_type": "code",
   "execution_count": 4,
   "metadata": {},
   "outputs": [
    {
     "name": "stdout",
     "output_type": "stream",
     "text": [
      "El array es:\n",
      "[51 85 74 83 11 57 72 79 36 62 35 84 35 62 60 43 29 23 51 16 83 83 62 62\n",
      " 10 36 82 49 39 82 26 42 71 26 83 21 38 33 91 73 28 91 44 65 73 62 73 98\n",
      " 37 52]\n"
     ]
    }
   ],
   "source": [
    "array1D = np.random.randint(10 , 100, (50))\n",
    "print(f\"El array es:\\n{array1D}\")"
   ]
  },
  {
   "cell_type": "code",
   "execution_count": 5,
   "metadata": {},
   "outputs": [
    {
     "name": "stdout",
     "output_type": "stream",
     "text": [
      "Los elementos en posiciones múltiplos de 5 son: [11 62 60 16 10 82 83 73 73 52]\n"
     ]
    }
   ],
   "source": [
    "print(f\"Los elementos en posiciones múltiplos de 5 son: {array1D[4::5]}\")"
   ]
  },
  {
   "cell_type": "markdown",
   "metadata": {},
   "source": [
    "2. Crea un array 1D con 30 valores del 1 al 20 (ambos incluidos). Utiliza indexación para obtener los elementos en las posiciones impares."
   ]
  },
  {
   "cell_type": "code",
   "execution_count": 6,
   "metadata": {},
   "outputs": [
    {
     "name": "stdout",
     "output_type": "stream",
     "text": [
      "El array es:\n",
      "[19 19 20 10  5  6 17  1 11 15  5 20  4  8  4  5 12  1  1  1 18 13  7  9\n",
      " 17  1 19  6 19 13]\n"
     ]
    }
   ],
   "source": [
    "array1D_2 = np.random.randint(1 , 21, (30))\n",
    "print(f\"El array es:\\n{array1D_2}\")"
   ]
  },
  {
   "cell_type": "code",
   "execution_count": 7,
   "metadata": {},
   "outputs": [
    {
     "name": "stdout",
     "output_type": "stream",
     "text": [
      "Los elementos en posiciones impares son: [19 10  6  1 15 20  8  5  1  1 13  9  1  6 13]\n"
     ]
    }
   ],
   "source": [
    "print(f\"Los elementos en posiciones impares son: {array1D_2[1::2]}\")"
   ]
  },
  {
   "cell_type": "markdown",
   "metadata": {},
   "source": [
    "3. Crea un array 2D de forma (4, 6) con números aleatorios decimales (no deben estar comprendidos solo entre 0 y 1). Accede a la última fila de la matriz. Los decimales deben estar redondeados a 2 decimales."
   ]
  },
  {
   "cell_type": "code",
   "execution_count": 8,
   "metadata": {},
   "outputs": [
    {
     "name": "stdout",
     "output_type": "stream",
     "text": [
      "El array es:\n",
      "[[52.15580706 21.77405803 40.974721   41.53899375 13.08178245 85.4996518 ]\n",
      " [81.42356589 68.50658497 12.39167899 31.14068668 83.75500357 40.75982187]\n",
      " [32.14434555 74.18880476 58.30659797 21.81494527 50.14922568 28.37413802]\n",
      " [52.87930607 49.60295473 40.36508538 34.30133907 90.83519857 54.20426261]]\n"
     ]
    }
   ],
   "source": [
    "array_2d = np.random.uniform(10, 100, (4, 6)) # Hemos utilizado random.uniform para poder obtener datos aleatorios de tipo float, pero dándole un rango distinto a 0 y 1, ya que randint devuelve integers\n",
    "print(f\"El array es:\\n{array_2d}\")"
   ]
  },
  {
   "cell_type": "code",
   "execution_count": 9,
   "metadata": {},
   "outputs": [
    {
     "name": "stdout",
     "output_type": "stream",
     "text": [
      "Los elementos de la última fila son: [52.87930607 49.60295473 40.36508538 34.30133907 90.83519857 54.20426261]\n"
     ]
    }
   ],
   "source": [
    "print(f\"Los elementos de la última fila son: {array_2d[-1]}\")"
   ]
  },
  {
   "cell_type": "code",
   "execution_count": 10,
   "metadata": {},
   "outputs": [
    {
     "name": "stdout",
     "output_type": "stream",
     "text": [
      "El array redondeado es:\n",
      "[[52.16 21.77 40.97 41.54 13.08 85.5 ]\n",
      " [81.42 68.51 12.39 31.14 83.76 40.76]\n",
      " [32.14 74.19 58.31 21.81 50.15 28.37]\n",
      " [52.88 49.6  40.37 34.3  90.84 54.2 ]]\n"
     ]
    }
   ],
   "source": [
    "array_2d_redondeado = np.round(array_2d, 2)\n",
    "print(f\"El array redondeado es:\\n{array_2d_redondeado}\")"
   ]
  },
  {
   "cell_type": "markdown",
   "metadata": {},
   "source": [
    "4. Crea un array NumPy 2D de forma (6, 4) con valores decimales entre 0 y 1. Accede a la segunda columna de la matriz. Los números deben estar redondeados a 2 decimales."
   ]
  },
  {
   "cell_type": "code",
   "execution_count": 11,
   "metadata": {},
   "outputs": [
    {
     "name": "stdout",
     "output_type": "stream",
     "text": [
      "El array es:\n",
      "[[0.87162445 0.98126814 0.27386212 0.67778242]\n",
      " [0.84252166 0.791782   0.89024233 0.60740523]\n",
      " [0.21846222 0.08834839 0.36344673 0.49067906]\n",
      " [0.08082639 0.53169325 0.64424639 0.61026058]\n",
      " [0.46567572 0.75909578 0.30437118 0.14315461]\n",
      " [0.41847595 0.16463744 0.01327053 0.71462741]]\n"
     ]
    }
   ],
   "source": [
    "array_2d_2 = np.random.sample((6, 4))\n",
    "print(f\"El array es:\\n{array_2d_2}\")"
   ]
  },
  {
   "cell_type": "code",
   "execution_count": 12,
   "metadata": {},
   "outputs": [
    {
     "name": "stdout",
     "output_type": "stream",
     "text": [
      "Los elementos de la segunda columna son:\n",
      " [0.98126814 0.791782   0.08834839 0.53169325 0.75909578 0.16463744]\n"
     ]
    }
   ],
   "source": [
    "print(f\"Los elementos de la segunda columna son:\\n {array_2d_2[: , 1]}\")"
   ]
  },
  {
   "cell_type": "code",
   "execution_count": 13,
   "metadata": {},
   "outputs": [
    {
     "name": "stdout",
     "output_type": "stream",
     "text": [
      "El array redondeado es:\n",
      "[[0.87 0.98 0.27 0.68]\n",
      " [0.84 0.79 0.89 0.61]\n",
      " [0.22 0.09 0.36 0.49]\n",
      " [0.08 0.53 0.64 0.61]\n",
      " [0.47 0.76 0.3  0.14]\n",
      " [0.42 0.16 0.01 0.71]]\n"
     ]
    }
   ],
   "source": [
    "array_2d_redondeado_2 = np.round(array_2d_2, 2)\n",
    "print(f\"El array redondeado es:\\n{array_2d_redondeado_2}\")"
   ]
  },
  {
   "cell_type": "markdown",
   "metadata": {},
   "source": [
    "5. Crea un array 1D con 30 valores enteros aleatorios entre -50 y 50. Extrae los valores negativos."
   ]
  },
  {
   "cell_type": "code",
   "execution_count": 14,
   "metadata": {},
   "outputs": [
    {
     "name": "stdout",
     "output_type": "stream",
     "text": [
      "El array es:\n",
      "[ 28  -2 -47 -30 -39 -10  39 -23  28  41 -42  -9 -45   8  -8  30 -41 -45\n",
      "  28 -19  47 -21  15  16  31 -37 -16  37  49 -24]\n"
     ]
    }
   ],
   "source": [
    "array1D_3 = np.random.randint(-50 , 50 , (30))\n",
    "print(f\"El array es:\\n{array1D_3}\")"
   ]
  },
  {
   "cell_type": "code",
   "execution_count": 15,
   "metadata": {},
   "outputs": [
    {
     "name": "stdout",
     "output_type": "stream",
     "text": [
      "Los números negativos son:\n",
      "[ -2 -47 -30 -39 -10 -23 -42  -9 -45  -8 -41 -45 -19 -21 -37 -16 -24]\n"
     ]
    }
   ],
   "source": [
    "numeros_negativos = array1D_3 < 0\n",
    "\n",
    "print(f\"Los números negativos son:\\n{array1D_3[numeros_negativos]}\")"
   ]
  },
  {
   "cell_type": "markdown",
   "metadata": {},
   "source": [
    "6. Crea un array 1D con 10 valores entre 0 y 1. Redondea los decimales a 2. Obtén los elementos cuyo valor es mayor que 0.5. ¿En que posición/es están esos elementos?"
   ]
  },
  {
   "cell_type": "code",
   "execution_count": 16,
   "metadata": {},
   "outputs": [
    {
     "name": "stdout",
     "output_type": "stream",
     "text": [
      "El array es:\n",
      "[0.17710658 0.41116725 0.98289997 0.83864759 0.97481143 0.88974956\n",
      " 0.15241685 0.0536863  0.15455018 0.4476847 ]\n"
     ]
    }
   ],
   "source": [
    "array1D_4 = np.random.sample(10)\n",
    "print(f\"El array es:\\n{array1D_4}\")"
   ]
  },
  {
   "cell_type": "code",
   "execution_count": 17,
   "metadata": {},
   "outputs": [
    {
     "name": "stdout",
     "output_type": "stream",
     "text": [
      "El array redondeado es:\n",
      "[0.18 0.41 0.98 0.84 0.97 0.89 0.15 0.05 0.15 0.45]\n"
     ]
    }
   ],
   "source": [
    "array1D_4_redondeado = np.round(array1D_4, 2)\n",
    "print(f\"El array redondeado es:\\n{array1D_4_redondeado}\")"
   ]
  },
  {
   "cell_type": "code",
   "execution_count": 18,
   "metadata": {},
   "outputs": [
    {
     "name": "stdout",
     "output_type": "stream",
     "text": [
      "Los números mayores a 0.5 son:\n",
      "[0.98 0.84 0.97 0.89]\n"
     ]
    }
   ],
   "source": [
    "mayores = array1D_4_redondeado > 0.5\n",
    "\n",
    "print(f\"Los números mayores a 0.5 son:\\n{array1D_4_redondeado[mayores]}\")"
   ]
  },
  {
   "cell_type": "code",
   "execution_count": 19,
   "metadata": {},
   "outputs": [
    {
     "name": "stdout",
     "output_type": "stream",
     "text": [
      "Los números están en la posición:\n",
      "(array([0, 1, 2, 3]),)\n"
     ]
    }
   ],
   "source": [
    "print(f\"Los números están en la posición:\\n{np.where(array1D_4_redondeado[mayores])}\")"
   ]
  },
  {
   "cell_type": "markdown",
   "metadata": {},
   "source": [
    "7. Crea un array 1D con 40 valores del 1 al 100 (ambos incluidos). Obtén los elementos que son divisibles por 3 y por 4."
   ]
  },
  {
   "cell_type": "code",
   "execution_count": 20,
   "metadata": {},
   "outputs": [
    {
     "name": "stdout",
     "output_type": "stream",
     "text": [
      "El array es:\n",
      "[ 1  3  5  7  9 11 13 15 17 19 21 23 25 27 29 31 33 35 37 39 41 43 45 47\n",
      " 49 51 53 55 57 59 61 63 65 67 69 71 73 75 77 79]\n"
     ]
    }
   ],
   "source": [
    "array1D_5 = np.arange(1 , 101 , 100/40 , dtype=int)\n",
    "print(f\"El array es:\\n{array1D_5}\")"
   ]
  },
  {
   "cell_type": "code",
   "execution_count": 21,
   "metadata": {},
   "outputs": [
    {
     "name": "stdout",
     "output_type": "stream",
     "text": [
      "Los elementos divisibles por 3 y por 4 son:\n",
      " []\n"
     ]
    }
   ],
   "source": [
    "divisibles = (array1D_5 % 3 == 0) & (array1D_5 % 4 == 0)\n",
    "\n",
    "print(f\"Los elementos divisibles por 3 y por 4 son:\\n {array1D_5[divisibles]}\")"
   ]
  },
  {
   "cell_type": "markdown",
   "metadata": {},
   "source": [
    "BONUS: Crea un array 3D de forma (2, 3, 5) y 50 elementos con números enteros entre 0 y 100 (ambos incluidos). Reemplaza los elementos en posiciones múltiplos de 3 por 0."
   ]
  },
  {
   "cell_type": "code",
   "execution_count": 22,
   "metadata": {},
   "outputs": [
    {
     "name": "stdout",
     "output_type": "stream",
     "text": [
      "El array con 30 elementos es:\n",
      "[[[ 0  9 68 24 20]\n",
      "  [61 45 67 28 26]\n",
      "  [45 81 53 27 48]]\n",
      "\n",
      " [[66 42 78 65  8]\n",
      "  [15 82 43 83  9]\n",
      "  [40 66 69 97 62]]]\n",
      "\n",
      "El array con 50 elementos es:\n",
      "[[[55 51 85 18 92]\n",
      "  [78 96 21 29 21]\n",
      "  [88  4 66 69 92]\n",
      "  [51 25 41 20 26]\n",
      "  [78 62 47 52 28]]\n",
      "\n",
      " [[93 16 89  4 84]\n",
      "  [68 18 25 39 66]\n",
      "  [68 46 87 40 58]\n",
      "  [32 11 80 98 57]\n",
      "  [80 11 57 44 37]]]\n"
     ]
    }
   ],
   "source": [
    "array3D = np.random.randint(0 , 101 , (2 , 3, 5)) # Si quisiéramos 50 elementos tendríamos que ajustar la forma del array que se está generando, ya que con 2x3x5 obtenemos 30\n",
    "array3D_50 = np.random.randint(0 , 101 , (2 , 5, 5))\n",
    "print(f\"El array con 30 elementos es:\\n{array3D}\")\n",
    "print(f\"\\nEl array con 50 elementos es:\\n{array3D_50}\")"
   ]
  },
  {
   "cell_type": "code",
   "execution_count": 23,
   "metadata": {},
   "outputs": [
    {
     "name": "stdout",
     "output_type": "stream",
     "text": [
      "El array cambiando sus elementos es:\n",
      "[[[55  0 85  0 92]\n",
      "  [ 0  0  0 29  0]\n",
      "  [88  4  0  0 92]\n",
      "  [ 0 25 41 20 26]\n",
      "  [ 0 62 47 52 28]]\n",
      "\n",
      " [[ 0 16 89  4  0]\n",
      "  [68  0 25  0  0]\n",
      "  [68 46  0 40 58]\n",
      "  [32 11 80 98  0]\n",
      "  [80 11  0 44 37]]]\n"
     ]
    }
   ],
   "source": [
    "array3D_50_ceros = np.where(array3D_50 % 3 == 0 , 0 , array3D_50)\n",
    "\n",
    "print(f\"El array cambiando sus elementos es:\\n{array3D_50_ceros}\")"
   ]
  },
  {
   "cell_type": "markdown",
   "metadata": {},
   "source": [
    "## Reshape y Transpose"
   ]
  },
  {
   "cell_type": "markdown",
   "metadata": {},
   "source": [
    "1. Crea un array 3D de forma (2, 3, 4) con valores aleatorios entre 1 y 100 (ambos inclusive). Utiliza reshape para convertirlo en un array 2D. Deberás pensar en la forma que es correcta para hacer este cambio."
   ]
  },
  {
   "cell_type": "code",
   "execution_count": 24,
   "metadata": {},
   "outputs": [
    {
     "name": "stdout",
     "output_type": "stream",
     "text": [
      "El array 3D es:\n",
      "[[[19 33 32 78]\n",
      "  [81 54  7 33]\n",
      "  [14 42 82 38]]\n",
      "\n",
      " [[42 73 26 54]\n",
      "  [64  8 32 87]\n",
      "  [ 5 45 41 60]]]\n"
     ]
    }
   ],
   "source": [
    "array3D_2 = np.random.randint(0 , 101 , (2 , 3, 4))\n",
    "print(f\"El array 3D es:\\n{array3D_2}\")"
   ]
  },
  {
   "cell_type": "code",
   "execution_count": 25,
   "metadata": {},
   "outputs": [
    {
     "name": "stdout",
     "output_type": "stream",
     "text": [
      "El array 2D es:\n",
      "[[19 33 32 78]\n",
      " [81 54  7 33]\n",
      " [14 42 82 38]\n",
      " [42 73 26 54]\n",
      " [64  8 32 87]\n",
      " [ 5 45 41 60]]\n"
     ]
    }
   ],
   "source": [
    "array3D_convertido = np.reshape(array3D_2 , (6,4))\n",
    "print(f\"El array 2D es:\\n{array3D_convertido}\")"
   ]
  },
  {
   "cell_type": "markdown",
   "metadata": {},
   "source": [
    "2. Crea un array 3D de forma (3, 4, 5) con valores enteros del 1 al 60 (sin incluir). Utiliza reshape para convertirlo en un array 2D."
   ]
  },
  {
   "cell_type": "code",
   "execution_count": 26,
   "metadata": {},
   "outputs": [
    {
     "name": "stdout",
     "output_type": "stream",
     "text": [
      "El array 3D es:\n",
      "[[[25  1 24 32 23]\n",
      "  [ 3  8 11 48 42]\n",
      "  [ 9 58 30  4 21]\n",
      "  [28 13 18  1 17]]\n",
      "\n",
      " [[ 1 20 43 31  4]\n",
      "  [55 30 19 58 28]\n",
      "  [17 37 18 44 57]\n",
      "  [45 58 28 34  4]]\n",
      "\n",
      " [[12 40 45 16  2]\n",
      "  [47 18  9 42  9]\n",
      "  [ 4 50  6  1 27]\n",
      "  [27 38 27  8  3]]]\n"
     ]
    }
   ],
   "source": [
    "array3D_3 = np.random.randint(1 , 60 , (3, 4, 5))\n",
    "print(f\"El array 3D es:\\n{array3D_3}\")"
   ]
  },
  {
   "cell_type": "code",
   "execution_count": 27,
   "metadata": {},
   "outputs": [
    {
     "name": "stdout",
     "output_type": "stream",
     "text": [
      "El array 2D es:\n",
      "[[25  1 24 32 23  3  8 11 48 42]\n",
      " [ 9 58 30  4 21 28 13 18  1 17]\n",
      " [ 1 20 43 31  4 55 30 19 58 28]\n",
      " [17 37 18 44 57 45 58 28 34  4]\n",
      " [12 40 45 16  2 47 18  9 42  9]\n",
      " [ 4 50  6  1 27 27 38 27  8  3]]\n"
     ]
    }
   ],
   "source": [
    "array3D_3_convertido = np.reshape(array3D_3 , (6,10))\n",
    "print(f\"El array 2D es:\\n{array3D_3_convertido}\")"
   ]
  },
  {
   "cell_type": "markdown",
   "metadata": {},
   "source": [
    "3. Crea un array 3D de forma (4, 3, 2) con valores aleatorios entre 0 y 1. Utiliza reshape para convertirlo en un array 2D."
   ]
  },
  {
   "cell_type": "code",
   "execution_count": 28,
   "metadata": {},
   "outputs": [
    {
     "name": "stdout",
     "output_type": "stream",
     "text": [
      "El array 3D es:\n",
      "[[[0.99695287 0.77202339]\n",
      "  [0.76560897 0.70946527]\n",
      "  [0.94978416 0.17875388]]\n",
      "\n",
      " [[0.17910665 0.8793873 ]\n",
      "  [0.75790226 0.28783756]\n",
      "  [0.38262927 0.04672082]]\n",
      "\n",
      " [[0.22362904 0.10507665]\n",
      "  [0.73983841 0.56649699]\n",
      "  [0.7174719  0.95446696]]\n",
      "\n",
      " [[0.46434144 0.86779902]\n",
      "  [0.4622805  0.53836558]\n",
      "  [0.22177587 0.17855802]]]\n"
     ]
    }
   ],
   "source": [
    "array3D_4 = np.random.sample((4, 3, 2))\n",
    "print(f\"El array 3D es:\\n{array3D_4}\")"
   ]
  },
  {
   "cell_type": "code",
   "execution_count": 29,
   "metadata": {},
   "outputs": [
    {
     "name": "stdout",
     "output_type": "stream",
     "text": [
      "El array 2D es:\n",
      "[[0.99695287 0.77202339 0.76560897 0.70946527 0.94978416 0.17875388]\n",
      " [0.17910665 0.8793873  0.75790226 0.28783756 0.38262927 0.04672082]\n",
      " [0.22362904 0.10507665 0.73983841 0.56649699 0.7174719  0.95446696]\n",
      " [0.46434144 0.86779902 0.4622805  0.53836558 0.22177587 0.17855802]]\n"
     ]
    }
   ],
   "source": [
    "array3D_4_convertido = np.reshape(array3D_4 , (4,6))\n",
    "print(f\"El array 2D es:\\n{array3D_4_convertido}\")"
   ]
  },
  {
   "cell_type": "markdown",
   "metadata": {},
   "source": [
    "4. Utiliza el array 3D del ejercicio 2 de reshape. Utiliza transpose para permutar los ejes y obtener un nuevo array con forma (5, 4, 3)."
   ]
  },
  {
   "cell_type": "code",
   "execution_count": 30,
   "metadata": {},
   "outputs": [
    {
     "name": "stdout",
     "output_type": "stream",
     "text": [
      "El array 3D transposeado es:\n",
      "[[[25  1 12]\n",
      "  [ 3 55 47]\n",
      "  [ 9 17  4]\n",
      "  [28 45 27]]\n",
      "\n",
      " [[ 1 20 40]\n",
      "  [ 8 30 18]\n",
      "  [58 37 50]\n",
      "  [13 58 38]]\n",
      "\n",
      " [[24 43 45]\n",
      "  [11 19  9]\n",
      "  [30 18  6]\n",
      "  [18 28 27]]\n",
      "\n",
      " [[32 31 16]\n",
      "  [48 58 42]\n",
      "  [ 4 44  1]\n",
      "  [ 1 34  8]]\n",
      "\n",
      " [[23  4  2]\n",
      "  [42 28  9]\n",
      "  [21 57 27]\n",
      "  [17  4  3]]]\n"
     ]
    }
   ],
   "source": [
    "array3D_3_transp = np.transpose(array3D_3 , (2, 1, 0)) # Le decimos que ahora en nuestra posición 0 (matriz) queremos lo que el array tenía en su posición 2 (columnas), que en la posición 1 (filas) mantenemos su posición 1 (filas) y que en la posición 2 (columnas) queremos el número que tenía en la posición 0 (matriz)\n",
    "print(f\"El array 3D transposeado es:\\n{array3D_3_transp}\")"
   ]
  },
  {
   "cell_type": "markdown",
   "metadata": {},
   "source": [
    "5. Utiliza el array 3D del ejercicio 3 de reshape. Utiliza transpose para cambiar el orden de los ejes y obtener un nuevo array con forma (3, 2, 4)."
   ]
  },
  {
   "cell_type": "code",
   "execution_count": 31,
   "metadata": {},
   "outputs": [
    {
     "name": "stdout",
     "output_type": "stream",
     "text": [
      "El array 3D transposeado es:\n",
      "[[[0.99695287 0.17910665 0.22362904 0.46434144]\n",
      "  [0.77202339 0.8793873  0.10507665 0.86779902]]\n",
      "\n",
      " [[0.76560897 0.75790226 0.73983841 0.4622805 ]\n",
      "  [0.70946527 0.28783756 0.56649699 0.53836558]]\n",
      "\n",
      " [[0.94978416 0.38262927 0.7174719  0.22177587]\n",
      "  [0.17875388 0.04672082 0.95446696 0.17855802]]]\n"
     ]
    }
   ],
   "source": [
    "array3D_4_transp = np.transpose(array3D_4 , (1 , 2 , 0))\n",
    "print(f\"El array 3D transposeado es:\\n{array3D_4_transp}\")"
   ]
  },
  {
   "cell_type": "markdown",
   "metadata": {},
   "source": [
    "6. ¿Qué diferencia existe entre el reshape y el transpose?\n",
    "\n",
    "Respuesta: En el reshape cambias directamente la forma del array (indicas su forma nueva) y en el transpose cambias los índices para que se adecúen a la nueva forma"
   ]
  },
  {
   "cell_type": "markdown",
   "metadata": {},
   "source": [
    "7. ¿Y entre el transpose y el swapaxes?\n",
    "\n",
    "Respuesta: La diferencia es que el primero permite reordenar todos los ejes (índices) en una nueva forma y con swapaxes podemos intercambiar dos ejes de esa array para darle esa nueva forma"
   ]
  },
  {
   "cell_type": "markdown",
   "metadata": {},
   "source": [
    "## Funciones Aritméticas y Estadísticas"
   ]
  },
  {
   "cell_type": "markdown",
   "metadata": {},
   "source": [
    "1. Crea un array de tres 3D con elementos entre el 0 y 1 de forma (2, 3, 5) cuyos valores solo tengan 1 decimal."
   ]
  },
  {
   "cell_type": "code",
   "execution_count": 35,
   "metadata": {},
   "outputs": [
    {
     "name": "stdout",
     "output_type": "stream",
     "text": [
      "El array es:\n",
      "[[[0.6 0.4 0.1 0.1 0. ]\n",
      "  [0.7 0.3 0.7 0.  0.3]\n",
      "  [0.7 0.8 0.3 0.8 0.2]]\n",
      "\n",
      " [[0.3 0.8 0.9 0.  0.7]\n",
      "  [0.3 0.5 0.6 0.2 0.3]\n",
      "  [0.8 0.2 0.4 0.9 0. ]]]\n"
     ]
    }
   ],
   "source": [
    "array3D_5 = np.random.sample((2 , 3, 5))\n",
    "array3D_5 = np.round(array3D_5 , 1)\n",
    "print(f\"El array es:\\n{array3D_5}\")"
   ]
  },
  {
   "cell_type": "markdown",
   "metadata": {},
   "source": [
    "2. Crea un array vacío con la misma forma y dimensiones que el array creado anteriormente. Vamos a reemplazar los valores de la matriz vacía que nos acabamos de crear pero basándonos en los valores del primer array bajo las siguientes condiciones:\n",
    "\n",
    "- Si el valor del array es igual que la media, se reemplaza por \"A\".\n",
    "- Si el valor del array es mayor que la media, se reemplaza por \"B\".\n",
    "- Si el valor del array es menor que la media, se reemplaza por \"C\".\n",
    "- Si el valor es igual que el máximo, se reemplaza por \"D\".\n",
    "- Si el valor es igual que el mínimo, se reemplaza por \"E\"."
   ]
  },
  {
   "cell_type": "code",
   "execution_count": 51,
   "metadata": {},
   "outputs": [
    {
     "name": "stdout",
     "output_type": "stream",
     "text": [
      "El array es:\n",
      "[[[0.6 0.4 0.1 0.1 0. ]\n",
      "  [0.7 0.3 0.7 0.  0.3]\n",
      "  [0.7 0.8 0.3 0.8 0.2]]\n",
      "\n",
      " [[0.3 0.8 0.9 0.  0.7]\n",
      "  [0.3 0.5 0.6 0.2 0.3]\n",
      "  [0.8 0.2 0.4 0.9 0. ]]]\n"
     ]
    }
   ],
   "source": [
    "array3D_6 = np.empty((2 , 3, 5))\n",
    "array3D_6 = np.round(array3D_6 , 1)\n",
    "print(f\"El array es:\\n{array3D_6}\")"
   ]
  },
  {
   "cell_type": "code",
   "execution_count": 54,
   "metadata": {},
   "outputs": [
    {
     "name": "stdout",
     "output_type": "stream",
     "text": [
      "El array convertido es:\n",
      "[[['B' 'A' 'C' 'C' 'E']\n",
      "  ['B' 'C' 'B' 'E' 'C']\n",
      "  ['B' 'B' 'C' 'B' 'C']]\n",
      "\n",
      " [['C' 'B' 'D' 'E' 'B']\n",
      "  ['C' 'B' 'B' 'C' 'C']\n",
      "  ['B' 'C' 'A' 'D' 'E']]]\n"
     ]
    }
   ],
   "source": [
    "media = np.round(np.mean(array3D_6) , 1)\n",
    "maximo = np.max(array3D_6)\n",
    "minimo = np.min(array3D_6)\n",
    "\n",
    "array_letras = np.where(array3D_6 == maximo , \"D\" , np.where(array3D_6 == minimo , \"E\" , np.where(array3D_6 == media , \"A\" , np.where(array3D_6 < media , \"C\" , \"B\"))))\n",
    "print(f\"El array convertido es:\\n{array_letras}\")"
   ]
  },
  {
   "cell_type": "code",
   "execution_count": 57,
   "metadata": {},
   "outputs": [
    {
     "name": "stdout",
     "output_type": "stream",
     "text": [
      "El array convertido es:\n",
      "[[['B' 'A' 'C' 'C' 'E']\n",
      "  ['B' 'C' 'B' 'E' 'C']\n",
      "  ['B' 'B' 'C' 'B' 'C']]\n",
      "\n",
      " [['C' 'B' 'D' 'E' 'B']\n",
      "  ['C' 'B' 'B' 'C' 'C']\n",
      "  ['B' 'C' 'A' 'D' 'E']]]\n"
     ]
    }
   ],
   "source": [
    "# Definimos las condiciones y los valores a asignar para cada una\n",
    "condiciones = [array3D_6 < media, array3D_6 > media , array3D_6 == maximo, array3D_6 == minimo , array3D_6 == media]\n",
    "valores = [\"C\" , \"B\" , \"D\", \"E\" , \"A\"]\n",
    "\n",
    "# Asignamos valores utilizando np.where()\n",
    "for condicion, valor in zip(condiciones, valores):\n",
    "    array_letras_2 = np.where(condicion, valor, array_letras)\n",
    "\n",
    "print(f\"El array convertido es:\\n{array_letras_2}\")"
   ]
  }
 ],
 "metadata": {
  "kernelspec": {
   "display_name": "base",
   "language": "python",
   "name": "python3"
  },
  "language_info": {
   "codemirror_mode": {
    "name": "ipython",
    "version": 3
   },
   "file_extension": ".py",
   "mimetype": "text/x-python",
   "name": "python",
   "nbconvert_exporter": "python",
   "pygments_lexer": "ipython3",
   "version": "3.9.7"
  }
 },
 "nbformat": 4,
 "nbformat_minor": 2
}
